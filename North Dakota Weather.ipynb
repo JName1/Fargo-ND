{
 "cells": [
  {
   "cell_type": "code",
   "execution_count": 45,
   "metadata": {},
   "outputs": [],
   "source": [
    "import urllib.request"
   ]
  },
  {
   "cell_type": "code",
   "execution_count": 46,
   "metadata": {},
   "outputs": [],
   "source": [
    "url = \"https://en.wikipedia.org/wiki/North_Dakota\""
   ]
  },
  {
   "cell_type": "code",
   "execution_count": 47,
   "metadata": {},
   "outputs": [],
   "source": [
    "page = urllib.request.urlopen(url)"
   ]
  },
  {
   "cell_type": "code",
   "execution_count": 48,
   "metadata": {},
   "outputs": [],
   "source": [
    "from bs4 import BeautifulSoup"
   ]
  },
  {
   "cell_type": "code",
   "execution_count": 49,
   "metadata": {},
   "outputs": [],
   "source": [
    "soup = BeautifulSoup(page, \"lxml\")"
   ]
  },
  {
   "cell_type": "code",
   "execution_count": 50,
   "metadata": {},
   "outputs": [
    {
     "data": {
      "text/plain": [
       "<title>North Dakota - Wikipedia</title>"
      ]
     },
     "execution_count": 50,
     "metadata": {},
     "output_type": "execute_result"
    }
   ],
   "source": [
    "soup.title"
   ]
  },
  {
   "cell_type": "code",
   "execution_count": 51,
   "metadata": {},
   "outputs": [
    {
     "data": {
      "text/plain": [
       "'North Dakota - Wikipedia'"
      ]
     },
     "execution_count": 51,
     "metadata": {},
     "output_type": "execute_result"
    }
   ],
   "source": [
    "soup.title.string"
   ]
  },
  {
   "cell_type": "code",
   "execution_count": 52,
   "metadata": {},
   "outputs": [
    {
     "data": {
      "text/plain": [
       "<table class=\"wikitable sortable\" style=\"margin:auto;\">\n",
       "<caption>Average daily maximum and minimum temperatures for selected cities in North Dakota<sup class=\"reference\" id=\"cite_ref-North_Dakota_climate_averages_15-0\"><a href=\"#cite_note-North_Dakota_climate_averages-15\">[15]</a></sup>\n",
       "</caption>\n",
       "<tbody><tr>\n",
       "<th>Location\n",
       "</th>\n",
       "<th>July (°F)\n",
       "</th>\n",
       "<th>July (°C)\n",
       "</th>\n",
       "<th>January (°F)\n",
       "</th>\n",
       "<th>January (°C)\n",
       "</th></tr>\n",
       "<tr>\n",
       "<td><a href=\"/wiki/Fargo,_North_Dakota\" title=\"Fargo, North Dakota\">Fargo</a></td>\n",
       "<td>82/59</td>\n",
       "<td>28/15</td>\n",
       "<td>18/0</td>\n",
       "<td>−7/−17\n",
       "</td></tr>\n",
       "<tr>\n",
       "<td><a href=\"/wiki/Bismarck,_North_Dakota\" title=\"Bismarck, North Dakota\">Bismarck</a></td>\n",
       "<td>84/57</td>\n",
       "<td>29/14</td>\n",
       "<td>23/2</td>\n",
       "<td>−5/−16\n",
       "</td></tr>\n",
       "<tr>\n",
       "<td><a href=\"/wiki/Grand_Forks,_North_Dakota\" title=\"Grand Forks, North Dakota\">Grand Forks</a></td>\n",
       "<td>81/56</td>\n",
       "<td>27/13</td>\n",
       "<td>16/−3</td>\n",
       "<td>−8/−19\n",
       "</td></tr>\n",
       "<tr>\n",
       "<td><a href=\"/wiki/Minot,_North_Dakota\" title=\"Minot, North Dakota\">Minot</a></td>\n",
       "<td>81/58</td>\n",
       "<td>27/14</td>\n",
       "<td>21/3</td>\n",
       "<td>−6/−16\n",
       "</td></tr>\n",
       "<tr>\n",
       "<td><a href=\"/wiki/West_Fargo,_North_Dakota\" title=\"West Fargo, North Dakota\">West Fargo</a></td>\n",
       "<td>82/59</td>\n",
       "<td>28/15</td>\n",
       "<td>16/-2</td>\n",
       "<td>−9/−19\n",
       "</td></tr>\n",
       "<tr>\n",
       "<td><a href=\"/wiki/Williston,_North_Dakota\" title=\"Williston, North Dakota\">Williston</a></td>\n",
       "<td>84/56</td>\n",
       "<td>29/13</td>\n",
       "<td>22/0</td>\n",
       "<td>−5/−17\n",
       "</td></tr>\n",
       "<tr>\n",
       "<td><a href=\"/wiki/Dickinson,_North_Dakota\" title=\"Dickinson, North Dakota\">Dickinson</a></td>\n",
       "<td>83/55</td>\n",
       "<td>28/12</td>\n",
       "<td>26/6</td>\n",
       "<td>−3/−14\n",
       "</td></tr>\n",
       "<tr>\n",
       "<td><a href=\"/wiki/Mandan,_North_Dakota\" title=\"Mandan, North Dakota\">Mandan</a></td>\n",
       "<td>84/57</td>\n",
       "<td>29/14</td>\n",
       "<td>20/−1</td>\n",
       "<td>−6/−18\n",
       "</td></tr></tbody></table>"
      ]
     },
     "execution_count": 52,
     "metadata": {},
     "output_type": "execute_result"
    }
   ],
   "source": [
    "right_table=soup.find('table', class_='wikitable sortable')\n",
    "right_table"
   ]
  },
  {
   "cell_type": "code",
   "execution_count": 53,
   "metadata": {},
   "outputs": [],
   "source": [
    "A=[]\n",
    "B=[]\n",
    "C=[]\n",
    "D=[]\n",
    "E=[]\n",
    "\n",
    "for row in right_table.findAll('tr'):\n",
    "    cells=row.findAll('td')\n",
    "    if len(cells)==5:\n",
    "        A.append(cells[0].find(text=True))\n",
    "        B.append(cells[1].find(text=True))\n",
    "        C.append(cells[2].find(text=True))\n",
    "        D.append(cells[3].find(text=True))\n",
    "        E.append(cells[4].find(text=True))"
   ]
  },
  {
   "cell_type": "code",
   "execution_count": 54,
   "metadata": {},
   "outputs": [
    {
     "data": {
      "text/html": [
       "<div>\n",
       "<style scoped>\n",
       "    .dataframe tbody tr th:only-of-type {\n",
       "        vertical-align: middle;\n",
       "    }\n",
       "\n",
       "    .dataframe tbody tr th {\n",
       "        vertical-align: top;\n",
       "    }\n",
       "\n",
       "    .dataframe thead th {\n",
       "        text-align: right;\n",
       "    }\n",
       "</style>\n",
       "<table border=\"1\" class=\"dataframe\">\n",
       "  <thead>\n",
       "    <tr style=\"text-align: right;\">\n",
       "      <th></th>\n",
       "      <th>Location</th>\n",
       "      <th>July (°F)</th>\n",
       "      <th>July (°C)</th>\n",
       "      <th>January (°F)</th>\n",
       "      <th>January (°C)</th>\n",
       "    </tr>\n",
       "  </thead>\n",
       "  <tbody>\n",
       "    <tr>\n",
       "      <th>0</th>\n",
       "      <td>Fargo</td>\n",
       "      <td>82/59</td>\n",
       "      <td>28/15</td>\n",
       "      <td>18/0</td>\n",
       "      <td>−7/−17\\n</td>\n",
       "    </tr>\n",
       "    <tr>\n",
       "      <th>1</th>\n",
       "      <td>Bismarck</td>\n",
       "      <td>84/57</td>\n",
       "      <td>29/14</td>\n",
       "      <td>23/2</td>\n",
       "      <td>−5/−16\\n</td>\n",
       "    </tr>\n",
       "    <tr>\n",
       "      <th>2</th>\n",
       "      <td>Grand Forks</td>\n",
       "      <td>81/56</td>\n",
       "      <td>27/13</td>\n",
       "      <td>16/−3</td>\n",
       "      <td>−8/−19\\n</td>\n",
       "    </tr>\n",
       "    <tr>\n",
       "      <th>3</th>\n",
       "      <td>Minot</td>\n",
       "      <td>81/58</td>\n",
       "      <td>27/14</td>\n",
       "      <td>21/3</td>\n",
       "      <td>−6/−16\\n</td>\n",
       "    </tr>\n",
       "    <tr>\n",
       "      <th>4</th>\n",
       "      <td>West Fargo</td>\n",
       "      <td>82/59</td>\n",
       "      <td>28/15</td>\n",
       "      <td>16/-2</td>\n",
       "      <td>−9/−19\\n</td>\n",
       "    </tr>\n",
       "    <tr>\n",
       "      <th>5</th>\n",
       "      <td>Williston</td>\n",
       "      <td>84/56</td>\n",
       "      <td>29/13</td>\n",
       "      <td>22/0</td>\n",
       "      <td>−5/−17\\n</td>\n",
       "    </tr>\n",
       "    <tr>\n",
       "      <th>6</th>\n",
       "      <td>Dickinson</td>\n",
       "      <td>83/55</td>\n",
       "      <td>28/12</td>\n",
       "      <td>26/6</td>\n",
       "      <td>−3/−14\\n</td>\n",
       "    </tr>\n",
       "    <tr>\n",
       "      <th>7</th>\n",
       "      <td>Mandan</td>\n",
       "      <td>84/57</td>\n",
       "      <td>29/14</td>\n",
       "      <td>20/−1</td>\n",
       "      <td>−6/−18\\n</td>\n",
       "    </tr>\n",
       "  </tbody>\n",
       "</table>\n",
       "</div>"
      ],
      "text/plain": [
       "      Location July (°F) July (°C) January (°F) January (°C)\n",
       "0        Fargo     82/59     28/15         18/0     −7/−17\\n\n",
       "1     Bismarck     84/57     29/14         23/2     −5/−16\\n\n",
       "2  Grand Forks     81/56     27/13        16/−3     −8/−19\\n\n",
       "3        Minot     81/58     27/14         21/3     −6/−16\\n\n",
       "4   West Fargo     82/59     28/15        16/-2     −9/−19\\n\n",
       "5    Williston     84/56     29/13         22/0     −5/−17\\n\n",
       "6    Dickinson     83/55     28/12         26/6     −3/−14\\n\n",
       "7       Mandan     84/57     29/14        20/−1     −6/−18\\n"
      ]
     },
     "execution_count": 54,
     "metadata": {},
     "output_type": "execute_result"
    }
   ],
   "source": [
    "import pandas as pd\n",
    "df=pd.DataFrame(A,columns=['Location'])\n",
    "df['July (°F)']=B\n",
    "df['July (°C)']=C\n",
    "df['January (°F)']=D\n",
    "df['January (°C)']=E\n",
    "df"
   ]
  },
  {
   "cell_type": "code",
   "execution_count": null,
   "metadata": {},
   "outputs": [],
   "source": [
    "import requests\n",
    "r = requests.get('https://www.usclimatedata.com/climate/united-states/us')\n",
    "print(len(r.text))"
   ]
  },
  {
   "cell_type": "code",
   "execution_count": null,
   "metadata": {},
   "outputs": [],
   "source": [
    "from bs4 import BeautifulSoup\n",
    "soup = BeautifulSoup(r.text)\n",
    "print(soup.title)\n",
    "print(soup.title.string)"
   ]
  },
  {
   "cell_type": "code",
   "execution_count": null,
   "metadata": {},
   "outputs": [],
   "source": [
    "print(soup.p)\n",
    "print(soup.p.text)\n",
    "print(soup.a)\n",
    "print(soup.a['title'])\n",
    "print()\n",
    "print(soup.p.parent)"
   ]
  },
  {
   "cell_type": "code",
   "execution_count": null,
   "metadata": {},
   "outputs": [],
   "source": [
    "print(soup.p.parent.prettify())"
   ]
  },
  {
   "cell_type": "code",
   "execution_count": null,
   "metadata": {},
   "outputs": [],
   "source": [
    "for link in soup.find_all('a'):\n",
    "    print(link.get('href'))"
   ]
  },
  {
   "cell_type": "code",
   "execution_count": null,
   "metadata": {},
   "outputs": [],
   "source": [
    "base_url = 'https://www.usclimatedata.com'\n",
    "state_links = []\n",
    "for link in soup.find_all('a'):\n",
    "    url = link.get('href')\n",
    "    if url and '/climate/' in url and '/climate/united-states/us' not in url:\n",
    "        state_links.append(url)\n",
    "        print(len(state_links))\n"
   ]
  },
  {
   "cell_type": "code",
   "execution_count": null,
   "metadata": {},
   "outputs": [],
   "source": [
    "r = requests.get(base_url + state_links[34])\n",
    "soup = BeautifulSoup(r.text)\n",
    "print(soup.title.string)"
   ]
  },
  {
   "cell_type": "code",
   "execution_count": 56,
   "metadata": {},
   "outputs": [
    {
     "name": "stdout",
     "output_type": "stream",
     "text": [
      "254\n"
     ]
    }
   ],
   "source": [
    "rows = soup.find_all('tr')\n",
    "print(len(rows))"
   ]
  },
  {
   "cell_type": "code",
   "execution_count": 57,
   "metadata": {},
   "outputs": [
    {
     "name": "stdout",
     "output_type": "stream",
     "text": [
      "0\n"
     ]
    }
   ],
   "source": [
    "rows = [row for row in rows if 'Average high' in str(row)]\n",
    "print(len(rows))\n",
    "\n",
    "high_temps = []\n",
    "for row in rows:\n",
    "    tds = row.find_all('td')\n",
    "    for i in range(1, 7):\n",
    "        high_temps.append(tds[i].text)\n",
    "    print(high_temps)"
   ]
  },
  {
   "cell_type": "code",
   "execution_count": 58,
   "metadata": {},
   "outputs": [
    {
     "name": "stdout",
     "output_type": "stream",
     "text": [
      "Dakota\n",
      "North Dakota\n"
     ]
    }
   ],
   "source": [
    "state = soup.title.string.split()[1]\n",
    "print(state)\n",
    "s = soup.title.string\n",
    "state = s[s.find(''):s.find('-')].strip()\n",
    "print(state)"
   ]
  },
  {
   "cell_type": "code",
   "execution_count": 59,
   "metadata": {},
   "outputs": [
    {
     "name": "stdout",
     "output_type": "stream",
     "text": [
      "{'North Dakota': []}\n"
     ]
    }
   ],
   "source": [
    "data = {}\n",
    "data[state] = high_temps\n",
    "print(data)"
   ]
  }
 ],
 "metadata": {
  "kernelspec": {
   "display_name": "Python 3",
   "language": "python",
   "name": "python3"
  },
  "language_info": {
   "codemirror_mode": {
    "name": "ipython",
    "version": 3
   },
   "file_extension": ".py",
   "mimetype": "text/x-python",
   "name": "python",
   "nbconvert_exporter": "python",
   "pygments_lexer": "ipython3",
   "version": "3.7.6"
  },
  "widgets": {
   "application/vnd.jupyter.widget-state+json": {
    "state": {},
    "version_major": 2,
    "version_minor": 0
   }
  }
 },
 "nbformat": 4,
 "nbformat_minor": 4
}
